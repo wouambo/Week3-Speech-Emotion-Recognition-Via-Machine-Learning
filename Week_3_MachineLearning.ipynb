{
  "cells": [
    {
      "cell_type": "markdown",
      "metadata": {
        "id": "view-in-github",
        "colab_type": "text"
      },
      "source": [
        "<a href=\"https://colab.research.google.com/github/wouambo/Week3-Speech-Emotion-Recognition-Via-Machine-Learning/blob/main/Week_3_MachineLearning.ipynb\" target=\"_parent\"><img src=\"https://colab.research.google.com/assets/colab-badge.svg\" alt=\"Open In Colab\"/></a>"
      ]
    },
    {
      "cell_type": "code",
      "source": [
        "from google.colab import drive\n",
        "drive.mount('/content/drive')"
      ],
      "metadata": {
        "colab": {
          "base_uri": "https://localhost:8080/",
          "height": 159
        },
        "id": "ywb8NifF9XN3",
        "outputId": "d4b09af0-b7fd-4c19-f356-b3b877b588ab"
      },
      "execution_count": 71,
      "outputs": [
        {
          "output_type": "error",
          "ename": "ModuleNotFoundError",
          "evalue": "No module named 'google'",
          "traceback": [
            "\u001b[0;31m---------------------------------------------------------------------------\u001b[0m",
            "\u001b[0;31mModuleNotFoundError\u001b[0m                       Traceback (most recent call last)",
            "Cell \u001b[0;32mIn[71], line 1\u001b[0m\n\u001b[0;32m----> 1\u001b[0m \u001b[38;5;28;01mfrom\u001b[39;00m \u001b[38;5;21;01mgoogle\u001b[39;00m\u001b[38;5;21;01m.\u001b[39;00m\u001b[38;5;21;01mcolab\u001b[39;00m \u001b[38;5;28;01mimport\u001b[39;00m drive\n\u001b[1;32m      2\u001b[0m drive\u001b[38;5;241m.\u001b[39mmount(\u001b[38;5;124m'\u001b[39m\u001b[38;5;124m/content/drive\u001b[39m\u001b[38;5;124m'\u001b[39m)\n",
            "\u001b[0;31mModuleNotFoundError\u001b[0m: No module named 'google'"
          ]
        }
      ]
    },
    {
      "cell_type": "markdown",
      "metadata": {
        "id": "q5CvOjjrL9gw"
      },
      "source": [
        "<center><h1> Introduction to Audio Classification with Machine Learning Models </h1></center>\n",
        "\n",
        "\n",
        "\n",
        "### Purpose\n",
        "This notebook serves as an introduction to working with audio data for classification problems; it is meant as a learning resource rather than a demonstration of the state-of-the-art. The techniques mentioned in this notebook apply not only to classification problems, but to regression problems and problems dealing with other types of input data as well. I provide an introduction to a few key machine learning models and the logic in choosing their hyperparameters. These objectives are framed by the task of recognizing emotion from snippets of speech audio.\n",
        "\n",
        " Training data should be used strictly for training a model, validation data strictly for tuning a model, and test data strictly to evaluate a model once it is tuned - a model should never be tuned to perform better on test data.\n",
        "\n",
        "\n",
        "\n",
        "\n",
        "\n",
        "Classic machine learning models such as Support Vector Machines (SVM), k Nearest Neighbours (kNN), and Random Forests have distinct advantages to deep neural networks in many tasks."
      ]
    },
    {
      "cell_type": "markdown",
      "metadata": {
        "id": "QQsTfGREL9g1"
      },
      "source": [
        "<!--TABLE OF CONTENTS-->\n",
        "\n",
        "\n",
        "# Table of Contents\n",
        "  - [Intro: Speech Emotion Recognition on the RAVDESS dataset](#Intro:-Speech-Emotion-Recognition-on-the-RAVDESS-dataset)\n",
        "  - [Machine Learning Process Overview](#Machine-Learning-Process-Overview)\n",
        "  - [Feature Extraction](#Feature-Extraction)\n",
        "    - [Load the Dataset and Compute Features](#Load-the-Dataset-and-Compute-Features)\n",
        "    - [Feature Scaling](#Feature-Scaling)\n",
        "  - [Classical Machine Learning Models](#Classical-Machine-Learning-Models)\n",
        "    - [Training: The 80/20 Split and Validation](#Training:-The-80/20-Split-and-Validation)\n",
        "    - [Comparing Models](#Comparing-Models)\n",
        "    - [The Support Vector Machine Classifier](#The-Support-Vector-Machine-Classifier)\n",
        "    - [k Nearest Neighbours](#k-Nearest-Neighbours)\n",
        "    - [Random Forests](#Random-Forests)\n",
        "\n"
      ]
    },
    {
      "cell_type": "markdown",
      "metadata": {
        "pycharm": {
          "name": "#%% md\n"
        },
        "id": "hZUcbr4PL9g2"
      },
      "source": [
        "## Intro: Speech Emotion Recognition on the RAVDESS dataset\n",
        "In this notebook we explore the most common machine learning models, specifically those available off the shelf in scikit-learn.\n",
        "\n",
        "I'm going to use the RAVDESS dataset (Ryerson Audio-Visual Database of Emotional Speech and Song dataset), created by Steven Livingstone and Frank Russo of Ryerson University. <br>\n",
        "[Details of the RAVDESS dataset](https://smartlaboratory.org/ravdess/) <br>\n",
        "[Download the dataset used in this notebook](https://zenodo.org/record/1188976) <br> Scroll half-way down the page and find \"Audio_Speech_Actors_01-24\"<br>\n",
        "\n",
        "We're going to use the audio-only speech portion of the RAVDESS dataset, ~200MB.\n",
        "Audio is sourced from 24 actors (12 male, 12 female) repeating two sentences with\n",
        "a variety of emotions and intensity. We get 1440 speech files (24 actors * 60 recordings per actor). Each audio sample has been rated  by a human 10 times for emotional quality.\n",
        "\n",
        "## Machine Learning Process Overview\n",
        "1. Feature Engineering: Choose and define the properties which our model will use to evaluate the audio files. <br>\n",
        "2. Feature Extraction: Compute the features for each audio file and build a feature matrix representing all audio files. <br>\n",
        "3. Model exploration: Test candidate models that make sense for the properies of the dataset\n",
        "4. Training the MLP Classifier model: Choose and optimize the properties of our model on validation data - hyperparameters and architechture.  <br>\n",
        "5. Evaluate our model's performance: Evaluate our model's accuracy on validation data and score it against test data which it has never seen in training.<br>\n",
        "6. Explore options for improving our model: Is our dataset the right size? Is our model too complex or too simple? <br>\n"
      ]
    },
    {
      "cell_type": "code",
      "source": [
        "#importing the required libraries\n",
        "\n",
        "import matplotlib.pyplot as plt\n",
        "import pandas as pd\n",
        "import numpy as np\n",
        "import librosa.display\n",
        "import soundfile\n",
        "import os\n",
        "# matplotlib complains about the behaviour of librosa.display, so we'll ignore those warnings:\n",
        "import warnings; warnings.filterwarnings('ignore')"
      ],
      "metadata": {
        "id": "b2IL0uT19_3A"
      },
      "execution_count": 1,
      "outputs": []
    },
    {
      "cell_type": "markdown",
      "metadata": {
        "pycharm": {
          "name": "#%% md\n"
        },
        "id": "eu8VPhDmL9hC"
      },
      "source": [
        "## Feature Extraction\n",
        "We're going to take full advantage of librosa, a Python library enabling audio analysis and feature extraction.\n",
        "Librosa abstracts away all the math and most of the details of mel spectrorgams, chromagrams, and MFCC.\n",
        "Although closely related, we're going to take the Mel Spectrogram, MFCC, and chromagrams of each audio file as separate features to try\n",
        "and have bit more discriminatory power between samples. <br>\n",
        "\n",
        "Let's build our feature extraction functions to get a chromagram, a mel spectorgram, and MFC coefficients for each of our audio files. Because the chromagram, mel spectrogram and MFCCs are calculated on audio frames produced by STFT, we're going to get a matrix back from each function, so we'll take the mean of those matrices to produce a single feature array for each feature and each audio sample, i.e. 3 feature arrays per audio sample.\n",
        "\n",
        "**Chromagram**: Will produce 12 features; One for each of 12 pitch classes\n",
        "\n",
        "**Mel Spectrogram**: Will produce 128 features; We've defined the number of mel frequency bands at n_mels=128\n",
        "\n",
        "**MFCC**: Will produce 40 MFCCs; I've set the number of coefficients to return at n_mfcc=40 which I found to work well"
      ]
    },
    {
      "cell_type": "code",
      "execution_count": 2,
      "metadata": {
        "pycharm": {
          "name": "#%%\n"
        },
        "id": "qTe93WYTL9hD"
      },
      "outputs": [],
      "source": [
        "\n",
        "#each of them takes an input of the sample wave, they all have the same input\n",
        "def feature_chromagram(waveform, sample_rate):\n",
        "    # STFT computed here explicitly; mel spectrogram and MFCC functions do this under the hood\n",
        "    stft_spectrogram=np.abs(librosa.stft(waveform))\n",
        "    # Produce the chromagram for all STFT frames and get the mean of each column of the resulting matrix to create a feature array\n",
        "    chromagram=np.mean(librosa.feature.chroma_stft(S=stft_spectrogram, sr=sample_rate).T,axis=0)\n",
        "    return chromagram\n",
        "\n",
        "def feature_melspectrogram(waveform, sample_rate):\n",
        "    # Produce the mel spectrogram for all STFT frames and get the mean of each column of the resulting matrix to create a feature array\n",
        "    # Using 8khz as upper frequency bound should be enough for most speech classification tasks\n",
        "    melspectrogram=np.mean(librosa.feature.melspectrogram(y=waveform, sr=sample_rate, n_mels=128, fmax=8000).T,axis=0)\n",
        "    return melspectrogram\n",
        "\n",
        "def feature_mfcc(waveform, sample_rate):\n",
        "    # Compute the MFCCs for all STFT frames and get the mean of each column of the resulting matrix to create a feature array\n",
        "    # 40 filterbanks = 40 coefficients\n",
        "    mfc_coefficients=np.mean(librosa.feature.mfcc(y=waveform, sr=sample_rate, n_mfcc=40).T, axis=0)\n",
        "    return mfc_coefficients"
      ]
    },
    {
      "cell_type": "markdown",
      "metadata": {
        "pycharm": {
          "name": "#%% md\n"
        },
        "id": "xjFXIfC2L9hD"
      },
      "source": [
        "We're going to wrap our feature extraction functions so we only have to load each audio file once. After extracting our 3 audio features as NumPy arrays representing a time series, we're going to\n",
        "stack them horizontally to create a single feature array."
      ]
    },
    {
      "cell_type": "code",
      "execution_count": 3,
      "metadata": {
        "pycharm": {
          "name": "#%%\n"
        },
        "id": "xPMw9ijJL9hE"
      },
      "outputs": [],
      "source": [
        "#calls upon the three functions above to get the feature and check for corrupted file\n",
        "def get_features(file):\n",
        "    # load an individual soundfile\n",
        "     with soundfile.SoundFile(file) as audio:\n",
        "        waveform = audio.read(dtype=\"float32\")\n",
        "        sample_rate = audio.samplerate\n",
        "        # compute features of soundfile\n",
        "        chromagram = feature_chromagram(waveform, sample_rate)\n",
        "        melspectrogram = feature_melspectrogram(waveform, sample_rate)\n",
        "        mfc_coefficients = feature_mfcc(waveform, sample_rate)\n",
        "\n",
        "        feature_matrix=np.array([])\n",
        "\n",
        "        # Check the shape of chromagram\n",
        "        if chromagram.ndim > 1 and chromagram.shape[1] > 1:\n",
        "            #print(f\"Returning zero vector for chromagram size: {file} (shape: {chromagram.shape})\")\n",
        "            chromagram = np.zeros((12,))  # Return a zero vector of size (12,)\n",
        "\n",
        "        # Check the shape of mel spectrogram\n",
        "        if melspectrogram.ndim > 1 and melspectrogram.shape[1] > 1:\n",
        "            #print(f\"Returning zero vector for mel spectrogram size: {file} (shape: {melspectrogram.shape})\")\n",
        "            melspectrogram = np.zeros((128,))  # Return a zero vector of size (128,)\n",
        "\n",
        "        # Check the shape of MFCC coefficients\n",
        "        if mfc_coefficients.ndim > 1 and mfc_coefficients.shape[1] > 1:\n",
        "            #print(f\"Returning zero vector for MFCC size: {file} (shape: {mfc_coefficients.shape})\")\n",
        "            mfc_coefficients = np.zeros((40,))  # Return a zero vector of size (40,)\n",
        "\n",
        "        # use np.hstack to stack our feature arrays horizontally to create a feature matrix\n",
        "        feature_matrix = np.hstack((chromagram, melspectrogram, mfc_coefficients))\n",
        "\n",
        "        return feature_matrix"
      ]
    },
    {
      "cell_type": "markdown",
      "metadata": {
        "pycharm": {
          "name": "#%% md\n"
        },
        "id": "c-C6g6psL9hE"
      },
      "source": [
        "### Load the Dataset and Compute Features\n",
        "We have to understand the labelling of the RAVDESS dataset to find the ground truth emotion for each sample.\n",
        "Each file is labelled with 7 numbers delimited by a \"-\".\n",
        "Most of the numbers describe metadata about the audio samples such as their format (video and/or audio),\n",
        "whether the audio is a song or statement, which of two statements is being read and by which actor.\n",
        "\n",
        "The third and fourth numbers pertain to the emotional quality of each sample. The third number is in the range of 1-8 with each number representing an emotion.\n",
        "The fourth number is either 1 or 2, representing normal (1) or strong (2) emotional intensity.\n",
        "\n",
        "We're going to define a dictionary based on the third number (emotion) and assign an emotion to each number as specified by the RAVDESS dataset:"
      ]
    },
    {
      "cell_type": "code",
      "execution_count": 4,
      "metadata": {
        "pycharm": {
          "name": "#%%\n"
        },
        "id": "z-Pu_fB7L9hF"
      },
      "outputs": [],
      "source": [
        "#Emotions in the RAVDESS dataset\n",
        "emotions_dict ={\n",
        "  '01':'neutral',\n",
        "  '02':'calm',\n",
        "  '03':'happy',\n",
        "  '04':'sad',\n",
        "  '05':'angry',\n",
        "  '06':'fearful',\n",
        "  '07':'disgust',\n",
        "  '08':'surprised'\n",
        "}"
      ]
    },
    {
      "cell_type": "markdown",
      "metadata": {
        "pycharm": {
          "name": "#%% md\n"
        },
        "id": "pTlsUOwXL9hF"
      },
      "source": [
        "Finally, let's load our entire dataset and compute the features of each audio file:"
      ]
    },
    {
      "cell_type": "code",
      "execution_count": 5,
      "metadata": {
        "pycharm": {
          "name": "#%%\n"
        },
        "id": "mAh2AYMpL9hF"
      },
      "outputs": [],
      "source": [
        "import os, glob\n",
        "\n",
        "def load_data():\n",
        "    X,y=[],[]\n",
        "    count = 0\n",
        "    #for file in glob.glob(\"Downloads/Audio Data/*/*.wav\"):\n",
        "    for file in glob.glob(\"Desktop/New Audio/*.wav\"):\n",
        "        file_name=os.path.basename(file)\n",
        "        emotion=emotions_dict[file_name.split(\"-\")[2]]\n",
        "        features = get_features(file)\n",
        "        X.append(features)\n",
        "        y.append(emotion)\n",
        "        count += 1\n",
        "        # '\\r' + end='' results in printing over same line\n",
        "        print('\\r' + f' Processed {count}/{1440} audio samples',end=' ')\n",
        "    # Return arrays to plug into sklearn's cross-validation algorithms\n",
        "    return np.array(X), np.array(y)"
      ]
    },
    {
      "cell_type": "markdown",
      "metadata": {
        "pycharm": {
          "name": "#%% md\n"
        },
        "id": "3Cf8q4K5L9hG"
      },
      "source": [
        "Compute the feature matrix and read the emotion labels for the entire dataset.\n",
        "Note that our regressor (independent/explanatory variable), usually denoted X, is named 'features', and our regressand (dependent variable), usually denoted y, is named 'emotions'."
      ]
    },
    {
      "cell_type": "code",
      "source": [
        "soundfile.SoundFile(\"Desktop/New Audio/03-01-01-01-01-01-01.wav\")"
      ],
      "metadata": {
        "id": "Ow5cmHa1V5lh",
        "outputId": "f309b4df-95f4-4413-ea44-0055deef9d25",
        "colab": {
          "base_uri": "https://localhost:8080/"
        }
      },
      "execution_count": 12,
      "outputs": [
        {
          "output_type": "execute_result",
          "data": {
            "text/plain": [
              "SoundFile('Desktop/New Audio/03-01-01-01-01-01-01.wav', mode='r', samplerate=48000, channels=1, format='WAV', subtype='PCM_16', endian='FILE')"
            ]
          },
          "metadata": {},
          "execution_count": 12
        }
      ]
    },
    {
      "cell_type": "code",
      "execution_count": 11,
      "metadata": {
        "pycharm": {
          "name": "#%%\n"
        },
        "id": "XeKE591aL9hG",
        "outputId": "7238c00e-5724-455d-f3ee-6729f4b8c6d0",
        "colab": {
          "base_uri": "https://localhost:8080/"
        }
      },
      "outputs": [
        {
          "output_type": "stream",
          "name": "stdout",
          "text": [
            " Processed 24/1440 audio samples "
          ]
        }
      ],
      "source": [
        "features, emotions = load_data()"
      ]
    },
    {
      "cell_type": "markdown",
      "metadata": {
        "pycharm": {
          "name": "#%% md\n"
        },
        "id": "RVUa7RAuL9hG"
      },
      "source": [
        "Let's see what the features we extracted look like, **also for saving both the features matrix as well as emotions array, we need to convert them to pandas dataframe.**"
      ]
    },
    {
      "cell_type": "code",
      "execution_count": 13,
      "metadata": {
        "pycharm": {
          "name": "#%%\n"
        },
        "id": "mzxX583yL9hG",
        "outputId": "09beebd3-64fb-4bd5-8079-da57c7ba5aaf",
        "colab": {
          "base_uri": "https://localhost:8080/",
          "height": 903
        }
      },
      "outputs": [
        {
          "output_type": "stream",
          "name": "stdout",
          "text": [
            "\n",
            "Audio samples represented: 24\n",
            "Numerical features extracted per sample: 180\n"
          ]
        },
        {
          "output_type": "execute_result",
          "data": {
            "text/plain": [
              "         0         1         2         3         4         5         6    \\\n",
              "0   0.674180  0.650402  0.586557  0.555190  0.575819  0.606190  0.628844   \n",
              "1   0.705345  0.758194  0.799771  0.756482  0.667762  0.586619  0.599169   \n",
              "2   0.605143  0.581898  0.581112  0.585075  0.603112  0.652321  0.756348   \n",
              "3   0.751364  0.783894  0.778168  0.745267  0.684792  0.648747  0.657843   \n",
              "4   0.566185  0.562793  0.550852  0.583258  0.630199  0.734844  0.785647   \n",
              "5   0.661145  0.677670  0.660659  0.673106  0.706750  0.723959  0.781018   \n",
              "6   0.593090  0.598052  0.589105  0.528063  0.433397  0.406408  0.501707   \n",
              "7   0.628542  0.647447  0.671662  0.656080  0.657394  0.699678  0.716240   \n",
              "8   0.517717  0.507123  0.549820  0.553473  0.521642  0.517564  0.545765   \n",
              "9   0.700054  0.613135  0.550636  0.522924  0.544542  0.573873  0.603943   \n",
              "10  0.639425  0.622780  0.618096  0.662002  0.709773  0.733545  0.784551   \n",
              "11  0.631459  0.725642  0.783147  0.833389  0.843776  0.749666  0.693716   \n",
              "12  0.693332  0.671383  0.663458  0.716900  0.747526  0.744423  0.771867   \n",
              "13  0.583331  0.542129  0.510666  0.511731  0.545608  0.633186  0.730425   \n",
              "14  0.654408  0.626454  0.621428  0.598551  0.579161  0.581884  0.571834   \n",
              "15  0.734632  0.763041  0.753707  0.778472  0.787527  0.751261  0.729630   \n",
              "16  0.646921  0.543263  0.514925  0.530232  0.571104  0.588106  0.623119   \n",
              "17  0.731512  0.786833  0.837673  0.780168  0.725474  0.656281  0.620250   \n",
              "18  0.542746  0.566415  0.605605  0.600083  0.529333  0.475622  0.537431   \n",
              "19  0.668912  0.710352  0.783670  0.818031  0.797947  0.731678  0.676917   \n",
              "20  0.638322  0.603788  0.604836  0.657798  0.704201  0.726272  0.775982   \n",
              "21  0.711041  0.787582  0.798084  0.707044  0.616680  0.554564  0.519628   \n",
              "22  0.670278  0.680006  0.734721  0.698050  0.695758  0.718682  0.758737   \n",
              "23  0.560200  0.536903  0.572923  0.538102  0.468938  0.464512  0.555998   \n",
              "\n",
              "         7         8         9    ...       170       171       172       173  \\\n",
              "0   0.608408  0.530024  0.515425  ...  1.779576 -0.515214 -2.635644  2.612570   \n",
              "1   0.629484  0.641612  0.678303  ... -3.450420 -5.186919 -3.710735 -0.514399   \n",
              "2   0.768405  0.730797  0.720527  ... -0.969906 -0.394818  0.713147  0.106606   \n",
              "3   0.645401  0.659438  0.723099  ... -0.819816 -1.438696  0.302157 -0.657375   \n",
              "4   0.718424  0.690923  0.689391  ... -2.500819 -1.544249 -0.076356 -1.632957   \n",
              "5   0.730870  0.634209  0.614647  ... -0.813780  1.119267  0.257489  0.510640   \n",
              "6   0.537100  0.550559  0.548905  ...  5.278347  3.581339  3.029922  1.791121   \n",
              "7   0.726989  0.761200  0.733851  ... -2.861531  1.083402 -0.187228 -1.345364   \n",
              "8   0.510597  0.495592  0.526166  ...  1.546231  0.962218  1.581437  0.534833   \n",
              "9   0.621499  0.660795  0.687289  ...  1.058582  3.250582  1.830122  4.105547   \n",
              "10  0.745765  0.697801  0.702583  ... -2.044611  0.099050 -1.269019  0.256628   \n",
              "11  0.654804  0.604116  0.618990  ... -3.323212 -4.236503 -2.636729 -2.372347   \n",
              "12  0.705190  0.653271  0.665269  ... -1.470084  0.850255  0.437107  1.571665   \n",
              "13  0.692685  0.653181  0.642508  ... -1.809262 -0.480439  0.493865  1.320855   \n",
              "14  0.569059  0.528322  0.515608  ...  6.284410  5.162148 -0.197644  6.968420   \n",
              "15  0.666343  0.614103  0.609314  ... -3.243913  1.017879 -2.317197 -0.921926   \n",
              "16  0.631495  0.614046  0.644538  ... -1.859853 -1.121543 -0.159575  1.248739   \n",
              "17  0.624792  0.632444  0.665789  ... -2.156066 -5.520720 -4.859228 -0.740918   \n",
              "18  0.544641  0.551279  0.576052  ...  5.097074  2.828986  1.837047  4.824629   \n",
              "19  0.626170  0.580362  0.592521  ... -2.879832 -3.066300 -3.314552 -1.638599   \n",
              "20  0.749976  0.703854  0.687497  ... -1.394441 -0.312268 -0.490023  1.373184   \n",
              "21  0.527521  0.568401  0.606521  ... -0.721142 -2.611686 -4.851090 -3.931622   \n",
              "22  0.758734  0.715276  0.676047  ... -1.580483  3.350397  0.365902  0.054353   \n",
              "23  0.622582  0.659349  0.663164  ...  0.751159  2.230545  0.067065  2.497976   \n",
              "\n",
              "         174       175       176       177       178       179  \n",
              "0   1.836902 -1.667088  0.586042 -0.978776  0.381642 -3.481533  \n",
              "1  -3.875247  0.297649 -0.504950 -6.052926 -3.277607 -3.947840  \n",
              "2  -0.093909  1.483317  4.106814 -0.836721 -0.140783  0.340809  \n",
              "3  -2.417934 -0.504936 -0.061966 -2.759357 -1.839828 -2.600537  \n",
              "4  -0.649109  2.498255  3.578426 -1.722739  0.992053  0.171480  \n",
              "5   0.108983  1.474668  4.759616 -3.416382 -1.922697 -0.858116  \n",
              "6  -0.668551  6.258346  2.818555 -1.284636  2.996835  1.516265  \n",
              "7   1.314608 -0.398152  4.633553  0.343051  5.170197  3.693363  \n",
              "8   1.495162  4.911425 -0.656907 -3.261507  0.209848 -6.423816  \n",
              "9   3.352259  1.901175  5.158494  1.985900  6.926238  2.736126  \n",
              "10  0.610272  1.649822  5.466601 -0.873227  0.928515 -0.251014  \n",
              "11 -3.730572 -0.445281 -2.071661 -2.826008 -3.821928 -3.437816  \n",
              "12  1.679097  3.571408  5.010822 -1.043798  0.186961 -1.424766  \n",
              "13 -0.045137  2.443294  4.975667 -1.070583  0.955670  0.827700  \n",
              "14  0.026987 -0.481743  0.732683 -3.594415  3.221467 -3.023537  \n",
              "15 -0.528668 -2.243848 -0.271275 -5.497682  1.177453 -2.268338  \n",
              "16  1.781804  5.196093  6.528554  1.070386  1.427746  1.442880  \n",
              "17 -5.461263 -1.434510 -1.120626 -5.321654 -3.046965 -4.646668  \n",
              "18  0.357297  6.435939  2.092802 -1.927391  1.620380 -3.881683  \n",
              "19 -3.669237 -1.099156 -0.613173 -3.922945 -2.105578 -3.567675  \n",
              "20  2.036439  3.039223  4.241592 -1.047684  0.669826  0.455067  \n",
              "21 -2.059405 -4.456717 -4.407708 -3.992436 -3.661572 -2.473576  \n",
              "22  0.361341 -4.298377  2.052140 -4.555424  1.193077  0.352784  \n",
              "23  1.805853  6.441051  3.032677 -1.267367  4.048238  2.312548  \n",
              "\n",
              "[24 rows x 180 columns]"
            ],
            "text/html": [
              "<div>\n",
              "<style scoped>\n",
              "    .dataframe tbody tr th:only-of-type {\n",
              "        vertical-align: middle;\n",
              "    }\n",
              "\n",
              "    .dataframe tbody tr th {\n",
              "        vertical-align: top;\n",
              "    }\n",
              "\n",
              "    .dataframe thead th {\n",
              "        text-align: right;\n",
              "    }\n",
              "</style>\n",
              "<table border=\"1\" class=\"dataframe\">\n",
              "  <thead>\n",
              "    <tr style=\"text-align: right;\">\n",
              "      <th></th>\n",
              "      <th>0</th>\n",
              "      <th>1</th>\n",
              "      <th>2</th>\n",
              "      <th>3</th>\n",
              "      <th>4</th>\n",
              "      <th>5</th>\n",
              "      <th>6</th>\n",
              "      <th>7</th>\n",
              "      <th>8</th>\n",
              "      <th>9</th>\n",
              "      <th>...</th>\n",
              "      <th>170</th>\n",
              "      <th>171</th>\n",
              "      <th>172</th>\n",
              "      <th>173</th>\n",
              "      <th>174</th>\n",
              "      <th>175</th>\n",
              "      <th>176</th>\n",
              "      <th>177</th>\n",
              "      <th>178</th>\n",
              "      <th>179</th>\n",
              "    </tr>\n",
              "  </thead>\n",
              "  <tbody>\n",
              "    <tr>\n",
              "      <th>0</th>\n",
              "      <td>0.674180</td>\n",
              "      <td>0.650402</td>\n",
              "      <td>0.586557</td>\n",
              "      <td>0.555190</td>\n",
              "      <td>0.575819</td>\n",
              "      <td>0.606190</td>\n",
              "      <td>0.628844</td>\n",
              "      <td>0.608408</td>\n",
              "      <td>0.530024</td>\n",
              "      <td>0.515425</td>\n",
              "      <td>...</td>\n",
              "      <td>1.779576</td>\n",
              "      <td>-0.515214</td>\n",
              "      <td>-2.635644</td>\n",
              "      <td>2.612570</td>\n",
              "      <td>1.836902</td>\n",
              "      <td>-1.667088</td>\n",
              "      <td>0.586042</td>\n",
              "      <td>-0.978776</td>\n",
              "      <td>0.381642</td>\n",
              "      <td>-3.481533</td>\n",
              "    </tr>\n",
              "    <tr>\n",
              "      <th>1</th>\n",
              "      <td>0.705345</td>\n",
              "      <td>0.758194</td>\n",
              "      <td>0.799771</td>\n",
              "      <td>0.756482</td>\n",
              "      <td>0.667762</td>\n",
              "      <td>0.586619</td>\n",
              "      <td>0.599169</td>\n",
              "      <td>0.629484</td>\n",
              "      <td>0.641612</td>\n",
              "      <td>0.678303</td>\n",
              "      <td>...</td>\n",
              "      <td>-3.450420</td>\n",
              "      <td>-5.186919</td>\n",
              "      <td>-3.710735</td>\n",
              "      <td>-0.514399</td>\n",
              "      <td>-3.875247</td>\n",
              "      <td>0.297649</td>\n",
              "      <td>-0.504950</td>\n",
              "      <td>-6.052926</td>\n",
              "      <td>-3.277607</td>\n",
              "      <td>-3.947840</td>\n",
              "    </tr>\n",
              "    <tr>\n",
              "      <th>2</th>\n",
              "      <td>0.605143</td>\n",
              "      <td>0.581898</td>\n",
              "      <td>0.581112</td>\n",
              "      <td>0.585075</td>\n",
              "      <td>0.603112</td>\n",
              "      <td>0.652321</td>\n",
              "      <td>0.756348</td>\n",
              "      <td>0.768405</td>\n",
              "      <td>0.730797</td>\n",
              "      <td>0.720527</td>\n",
              "      <td>...</td>\n",
              "      <td>-0.969906</td>\n",
              "      <td>-0.394818</td>\n",
              "      <td>0.713147</td>\n",
              "      <td>0.106606</td>\n",
              "      <td>-0.093909</td>\n",
              "      <td>1.483317</td>\n",
              "      <td>4.106814</td>\n",
              "      <td>-0.836721</td>\n",
              "      <td>-0.140783</td>\n",
              "      <td>0.340809</td>\n",
              "    </tr>\n",
              "    <tr>\n",
              "      <th>3</th>\n",
              "      <td>0.751364</td>\n",
              "      <td>0.783894</td>\n",
              "      <td>0.778168</td>\n",
              "      <td>0.745267</td>\n",
              "      <td>0.684792</td>\n",
              "      <td>0.648747</td>\n",
              "      <td>0.657843</td>\n",
              "      <td>0.645401</td>\n",
              "      <td>0.659438</td>\n",
              "      <td>0.723099</td>\n",
              "      <td>...</td>\n",
              "      <td>-0.819816</td>\n",
              "      <td>-1.438696</td>\n",
              "      <td>0.302157</td>\n",
              "      <td>-0.657375</td>\n",
              "      <td>-2.417934</td>\n",
              "      <td>-0.504936</td>\n",
              "      <td>-0.061966</td>\n",
              "      <td>-2.759357</td>\n",
              "      <td>-1.839828</td>\n",
              "      <td>-2.600537</td>\n",
              "    </tr>\n",
              "    <tr>\n",
              "      <th>4</th>\n",
              "      <td>0.566185</td>\n",
              "      <td>0.562793</td>\n",
              "      <td>0.550852</td>\n",
              "      <td>0.583258</td>\n",
              "      <td>0.630199</td>\n",
              "      <td>0.734844</td>\n",
              "      <td>0.785647</td>\n",
              "      <td>0.718424</td>\n",
              "      <td>0.690923</td>\n",
              "      <td>0.689391</td>\n",
              "      <td>...</td>\n",
              "      <td>-2.500819</td>\n",
              "      <td>-1.544249</td>\n",
              "      <td>-0.076356</td>\n",
              "      <td>-1.632957</td>\n",
              "      <td>-0.649109</td>\n",
              "      <td>2.498255</td>\n",
              "      <td>3.578426</td>\n",
              "      <td>-1.722739</td>\n",
              "      <td>0.992053</td>\n",
              "      <td>0.171480</td>\n",
              "    </tr>\n",
              "    <tr>\n",
              "      <th>5</th>\n",
              "      <td>0.661145</td>\n",
              "      <td>0.677670</td>\n",
              "      <td>0.660659</td>\n",
              "      <td>0.673106</td>\n",
              "      <td>0.706750</td>\n",
              "      <td>0.723959</td>\n",
              "      <td>0.781018</td>\n",
              "      <td>0.730870</td>\n",
              "      <td>0.634209</td>\n",
              "      <td>0.614647</td>\n",
              "      <td>...</td>\n",
              "      <td>-0.813780</td>\n",
              "      <td>1.119267</td>\n",
              "      <td>0.257489</td>\n",
              "      <td>0.510640</td>\n",
              "      <td>0.108983</td>\n",
              "      <td>1.474668</td>\n",
              "      <td>4.759616</td>\n",
              "      <td>-3.416382</td>\n",
              "      <td>-1.922697</td>\n",
              "      <td>-0.858116</td>\n",
              "    </tr>\n",
              "    <tr>\n",
              "      <th>6</th>\n",
              "      <td>0.593090</td>\n",
              "      <td>0.598052</td>\n",
              "      <td>0.589105</td>\n",
              "      <td>0.528063</td>\n",
              "      <td>0.433397</td>\n",
              "      <td>0.406408</td>\n",
              "      <td>0.501707</td>\n",
              "      <td>0.537100</td>\n",
              "      <td>0.550559</td>\n",
              "      <td>0.548905</td>\n",
              "      <td>...</td>\n",
              "      <td>5.278347</td>\n",
              "      <td>3.581339</td>\n",
              "      <td>3.029922</td>\n",
              "      <td>1.791121</td>\n",
              "      <td>-0.668551</td>\n",
              "      <td>6.258346</td>\n",
              "      <td>2.818555</td>\n",
              "      <td>-1.284636</td>\n",
              "      <td>2.996835</td>\n",
              "      <td>1.516265</td>\n",
              "    </tr>\n",
              "    <tr>\n",
              "      <th>7</th>\n",
              "      <td>0.628542</td>\n",
              "      <td>0.647447</td>\n",
              "      <td>0.671662</td>\n",
              "      <td>0.656080</td>\n",
              "      <td>0.657394</td>\n",
              "      <td>0.699678</td>\n",
              "      <td>0.716240</td>\n",
              "      <td>0.726989</td>\n",
              "      <td>0.761200</td>\n",
              "      <td>0.733851</td>\n",
              "      <td>...</td>\n",
              "      <td>-2.861531</td>\n",
              "      <td>1.083402</td>\n",
              "      <td>-0.187228</td>\n",
              "      <td>-1.345364</td>\n",
              "      <td>1.314608</td>\n",
              "      <td>-0.398152</td>\n",
              "      <td>4.633553</td>\n",
              "      <td>0.343051</td>\n",
              "      <td>5.170197</td>\n",
              "      <td>3.693363</td>\n",
              "    </tr>\n",
              "    <tr>\n",
              "      <th>8</th>\n",
              "      <td>0.517717</td>\n",
              "      <td>0.507123</td>\n",
              "      <td>0.549820</td>\n",
              "      <td>0.553473</td>\n",
              "      <td>0.521642</td>\n",
              "      <td>0.517564</td>\n",
              "      <td>0.545765</td>\n",
              "      <td>0.510597</td>\n",
              "      <td>0.495592</td>\n",
              "      <td>0.526166</td>\n",
              "      <td>...</td>\n",
              "      <td>1.546231</td>\n",
              "      <td>0.962218</td>\n",
              "      <td>1.581437</td>\n",
              "      <td>0.534833</td>\n",
              "      <td>1.495162</td>\n",
              "      <td>4.911425</td>\n",
              "      <td>-0.656907</td>\n",
              "      <td>-3.261507</td>\n",
              "      <td>0.209848</td>\n",
              "      <td>-6.423816</td>\n",
              "    </tr>\n",
              "    <tr>\n",
              "      <th>9</th>\n",
              "      <td>0.700054</td>\n",
              "      <td>0.613135</td>\n",
              "      <td>0.550636</td>\n",
              "      <td>0.522924</td>\n",
              "      <td>0.544542</td>\n",
              "      <td>0.573873</td>\n",
              "      <td>0.603943</td>\n",
              "      <td>0.621499</td>\n",
              "      <td>0.660795</td>\n",
              "      <td>0.687289</td>\n",
              "      <td>...</td>\n",
              "      <td>1.058582</td>\n",
              "      <td>3.250582</td>\n",
              "      <td>1.830122</td>\n",
              "      <td>4.105547</td>\n",
              "      <td>3.352259</td>\n",
              "      <td>1.901175</td>\n",
              "      <td>5.158494</td>\n",
              "      <td>1.985900</td>\n",
              "      <td>6.926238</td>\n",
              "      <td>2.736126</td>\n",
              "    </tr>\n",
              "    <tr>\n",
              "      <th>10</th>\n",
              "      <td>0.639425</td>\n",
              "      <td>0.622780</td>\n",
              "      <td>0.618096</td>\n",
              "      <td>0.662002</td>\n",
              "      <td>0.709773</td>\n",
              "      <td>0.733545</td>\n",
              "      <td>0.784551</td>\n",
              "      <td>0.745765</td>\n",
              "      <td>0.697801</td>\n",
              "      <td>0.702583</td>\n",
              "      <td>...</td>\n",
              "      <td>-2.044611</td>\n",
              "      <td>0.099050</td>\n",
              "      <td>-1.269019</td>\n",
              "      <td>0.256628</td>\n",
              "      <td>0.610272</td>\n",
              "      <td>1.649822</td>\n",
              "      <td>5.466601</td>\n",
              "      <td>-0.873227</td>\n",
              "      <td>0.928515</td>\n",
              "      <td>-0.251014</td>\n",
              "    </tr>\n",
              "    <tr>\n",
              "      <th>11</th>\n",
              "      <td>0.631459</td>\n",
              "      <td>0.725642</td>\n",
              "      <td>0.783147</td>\n",
              "      <td>0.833389</td>\n",
              "      <td>0.843776</td>\n",
              "      <td>0.749666</td>\n",
              "      <td>0.693716</td>\n",
              "      <td>0.654804</td>\n",
              "      <td>0.604116</td>\n",
              "      <td>0.618990</td>\n",
              "      <td>...</td>\n",
              "      <td>-3.323212</td>\n",
              "      <td>-4.236503</td>\n",
              "      <td>-2.636729</td>\n",
              "      <td>-2.372347</td>\n",
              "      <td>-3.730572</td>\n",
              "      <td>-0.445281</td>\n",
              "      <td>-2.071661</td>\n",
              "      <td>-2.826008</td>\n",
              "      <td>-3.821928</td>\n",
              "      <td>-3.437816</td>\n",
              "    </tr>\n",
              "    <tr>\n",
              "      <th>12</th>\n",
              "      <td>0.693332</td>\n",
              "      <td>0.671383</td>\n",
              "      <td>0.663458</td>\n",
              "      <td>0.716900</td>\n",
              "      <td>0.747526</td>\n",
              "      <td>0.744423</td>\n",
              "      <td>0.771867</td>\n",
              "      <td>0.705190</td>\n",
              "      <td>0.653271</td>\n",
              "      <td>0.665269</td>\n",
              "      <td>...</td>\n",
              "      <td>-1.470084</td>\n",
              "      <td>0.850255</td>\n",
              "      <td>0.437107</td>\n",
              "      <td>1.571665</td>\n",
              "      <td>1.679097</td>\n",
              "      <td>3.571408</td>\n",
              "      <td>5.010822</td>\n",
              "      <td>-1.043798</td>\n",
              "      <td>0.186961</td>\n",
              "      <td>-1.424766</td>\n",
              "    </tr>\n",
              "    <tr>\n",
              "      <th>13</th>\n",
              "      <td>0.583331</td>\n",
              "      <td>0.542129</td>\n",
              "      <td>0.510666</td>\n",
              "      <td>0.511731</td>\n",
              "      <td>0.545608</td>\n",
              "      <td>0.633186</td>\n",
              "      <td>0.730425</td>\n",
              "      <td>0.692685</td>\n",
              "      <td>0.653181</td>\n",
              "      <td>0.642508</td>\n",
              "      <td>...</td>\n",
              "      <td>-1.809262</td>\n",
              "      <td>-0.480439</td>\n",
              "      <td>0.493865</td>\n",
              "      <td>1.320855</td>\n",
              "      <td>-0.045137</td>\n",
              "      <td>2.443294</td>\n",
              "      <td>4.975667</td>\n",
              "      <td>-1.070583</td>\n",
              "      <td>0.955670</td>\n",
              "      <td>0.827700</td>\n",
              "    </tr>\n",
              "    <tr>\n",
              "      <th>14</th>\n",
              "      <td>0.654408</td>\n",
              "      <td>0.626454</td>\n",
              "      <td>0.621428</td>\n",
              "      <td>0.598551</td>\n",
              "      <td>0.579161</td>\n",
              "      <td>0.581884</td>\n",
              "      <td>0.571834</td>\n",
              "      <td>0.569059</td>\n",
              "      <td>0.528322</td>\n",
              "      <td>0.515608</td>\n",
              "      <td>...</td>\n",
              "      <td>6.284410</td>\n",
              "      <td>5.162148</td>\n",
              "      <td>-0.197644</td>\n",
              "      <td>6.968420</td>\n",
              "      <td>0.026987</td>\n",
              "      <td>-0.481743</td>\n",
              "      <td>0.732683</td>\n",
              "      <td>-3.594415</td>\n",
              "      <td>3.221467</td>\n",
              "      <td>-3.023537</td>\n",
              "    </tr>\n",
              "    <tr>\n",
              "      <th>15</th>\n",
              "      <td>0.734632</td>\n",
              "      <td>0.763041</td>\n",
              "      <td>0.753707</td>\n",
              "      <td>0.778472</td>\n",
              "      <td>0.787527</td>\n",
              "      <td>0.751261</td>\n",
              "      <td>0.729630</td>\n",
              "      <td>0.666343</td>\n",
              "      <td>0.614103</td>\n",
              "      <td>0.609314</td>\n",
              "      <td>...</td>\n",
              "      <td>-3.243913</td>\n",
              "      <td>1.017879</td>\n",
              "      <td>-2.317197</td>\n",
              "      <td>-0.921926</td>\n",
              "      <td>-0.528668</td>\n",
              "      <td>-2.243848</td>\n",
              "      <td>-0.271275</td>\n",
              "      <td>-5.497682</td>\n",
              "      <td>1.177453</td>\n",
              "      <td>-2.268338</td>\n",
              "    </tr>\n",
              "    <tr>\n",
              "      <th>16</th>\n",
              "      <td>0.646921</td>\n",
              "      <td>0.543263</td>\n",
              "      <td>0.514925</td>\n",
              "      <td>0.530232</td>\n",
              "      <td>0.571104</td>\n",
              "      <td>0.588106</td>\n",
              "      <td>0.623119</td>\n",
              "      <td>0.631495</td>\n",
              "      <td>0.614046</td>\n",
              "      <td>0.644538</td>\n",
              "      <td>...</td>\n",
              "      <td>-1.859853</td>\n",
              "      <td>-1.121543</td>\n",
              "      <td>-0.159575</td>\n",
              "      <td>1.248739</td>\n",
              "      <td>1.781804</td>\n",
              "      <td>5.196093</td>\n",
              "      <td>6.528554</td>\n",
              "      <td>1.070386</td>\n",
              "      <td>1.427746</td>\n",
              "      <td>1.442880</td>\n",
              "    </tr>\n",
              "    <tr>\n",
              "      <th>17</th>\n",
              "      <td>0.731512</td>\n",
              "      <td>0.786833</td>\n",
              "      <td>0.837673</td>\n",
              "      <td>0.780168</td>\n",
              "      <td>0.725474</td>\n",
              "      <td>0.656281</td>\n",
              "      <td>0.620250</td>\n",
              "      <td>0.624792</td>\n",
              "      <td>0.632444</td>\n",
              "      <td>0.665789</td>\n",
              "      <td>...</td>\n",
              "      <td>-2.156066</td>\n",
              "      <td>-5.520720</td>\n",
              "      <td>-4.859228</td>\n",
              "      <td>-0.740918</td>\n",
              "      <td>-5.461263</td>\n",
              "      <td>-1.434510</td>\n",
              "      <td>-1.120626</td>\n",
              "      <td>-5.321654</td>\n",
              "      <td>-3.046965</td>\n",
              "      <td>-4.646668</td>\n",
              "    </tr>\n",
              "    <tr>\n",
              "      <th>18</th>\n",
              "      <td>0.542746</td>\n",
              "      <td>0.566415</td>\n",
              "      <td>0.605605</td>\n",
              "      <td>0.600083</td>\n",
              "      <td>0.529333</td>\n",
              "      <td>0.475622</td>\n",
              "      <td>0.537431</td>\n",
              "      <td>0.544641</td>\n",
              "      <td>0.551279</td>\n",
              "      <td>0.576052</td>\n",
              "      <td>...</td>\n",
              "      <td>5.097074</td>\n",
              "      <td>2.828986</td>\n",
              "      <td>1.837047</td>\n",
              "      <td>4.824629</td>\n",
              "      <td>0.357297</td>\n",
              "      <td>6.435939</td>\n",
              "      <td>2.092802</td>\n",
              "      <td>-1.927391</td>\n",
              "      <td>1.620380</td>\n",
              "      <td>-3.881683</td>\n",
              "    </tr>\n",
              "    <tr>\n",
              "      <th>19</th>\n",
              "      <td>0.668912</td>\n",
              "      <td>0.710352</td>\n",
              "      <td>0.783670</td>\n",
              "      <td>0.818031</td>\n",
              "      <td>0.797947</td>\n",
              "      <td>0.731678</td>\n",
              "      <td>0.676917</td>\n",
              "      <td>0.626170</td>\n",
              "      <td>0.580362</td>\n",
              "      <td>0.592521</td>\n",
              "      <td>...</td>\n",
              "      <td>-2.879832</td>\n",
              "      <td>-3.066300</td>\n",
              "      <td>-3.314552</td>\n",
              "      <td>-1.638599</td>\n",
              "      <td>-3.669237</td>\n",
              "      <td>-1.099156</td>\n",
              "      <td>-0.613173</td>\n",
              "      <td>-3.922945</td>\n",
              "      <td>-2.105578</td>\n",
              "      <td>-3.567675</td>\n",
              "    </tr>\n",
              "    <tr>\n",
              "      <th>20</th>\n",
              "      <td>0.638322</td>\n",
              "      <td>0.603788</td>\n",
              "      <td>0.604836</td>\n",
              "      <td>0.657798</td>\n",
              "      <td>0.704201</td>\n",
              "      <td>0.726272</td>\n",
              "      <td>0.775982</td>\n",
              "      <td>0.749976</td>\n",
              "      <td>0.703854</td>\n",
              "      <td>0.687497</td>\n",
              "      <td>...</td>\n",
              "      <td>-1.394441</td>\n",
              "      <td>-0.312268</td>\n",
              "      <td>-0.490023</td>\n",
              "      <td>1.373184</td>\n",
              "      <td>2.036439</td>\n",
              "      <td>3.039223</td>\n",
              "      <td>4.241592</td>\n",
              "      <td>-1.047684</td>\n",
              "      <td>0.669826</td>\n",
              "      <td>0.455067</td>\n",
              "    </tr>\n",
              "    <tr>\n",
              "      <th>21</th>\n",
              "      <td>0.711041</td>\n",
              "      <td>0.787582</td>\n",
              "      <td>0.798084</td>\n",
              "      <td>0.707044</td>\n",
              "      <td>0.616680</td>\n",
              "      <td>0.554564</td>\n",
              "      <td>0.519628</td>\n",
              "      <td>0.527521</td>\n",
              "      <td>0.568401</td>\n",
              "      <td>0.606521</td>\n",
              "      <td>...</td>\n",
              "      <td>-0.721142</td>\n",
              "      <td>-2.611686</td>\n",
              "      <td>-4.851090</td>\n",
              "      <td>-3.931622</td>\n",
              "      <td>-2.059405</td>\n",
              "      <td>-4.456717</td>\n",
              "      <td>-4.407708</td>\n",
              "      <td>-3.992436</td>\n",
              "      <td>-3.661572</td>\n",
              "      <td>-2.473576</td>\n",
              "    </tr>\n",
              "    <tr>\n",
              "      <th>22</th>\n",
              "      <td>0.670278</td>\n",
              "      <td>0.680006</td>\n",
              "      <td>0.734721</td>\n",
              "      <td>0.698050</td>\n",
              "      <td>0.695758</td>\n",
              "      <td>0.718682</td>\n",
              "      <td>0.758737</td>\n",
              "      <td>0.758734</td>\n",
              "      <td>0.715276</td>\n",
              "      <td>0.676047</td>\n",
              "      <td>...</td>\n",
              "      <td>-1.580483</td>\n",
              "      <td>3.350397</td>\n",
              "      <td>0.365902</td>\n",
              "      <td>0.054353</td>\n",
              "      <td>0.361341</td>\n",
              "      <td>-4.298377</td>\n",
              "      <td>2.052140</td>\n",
              "      <td>-4.555424</td>\n",
              "      <td>1.193077</td>\n",
              "      <td>0.352784</td>\n",
              "    </tr>\n",
              "    <tr>\n",
              "      <th>23</th>\n",
              "      <td>0.560200</td>\n",
              "      <td>0.536903</td>\n",
              "      <td>0.572923</td>\n",
              "      <td>0.538102</td>\n",
              "      <td>0.468938</td>\n",
              "      <td>0.464512</td>\n",
              "      <td>0.555998</td>\n",
              "      <td>0.622582</td>\n",
              "      <td>0.659349</td>\n",
              "      <td>0.663164</td>\n",
              "      <td>...</td>\n",
              "      <td>0.751159</td>\n",
              "      <td>2.230545</td>\n",
              "      <td>0.067065</td>\n",
              "      <td>2.497976</td>\n",
              "      <td>1.805853</td>\n",
              "      <td>6.441051</td>\n",
              "      <td>3.032677</td>\n",
              "      <td>-1.267367</td>\n",
              "      <td>4.048238</td>\n",
              "      <td>2.312548</td>\n",
              "    </tr>\n",
              "  </tbody>\n",
              "</table>\n",
              "<p>24 rows × 180 columns</p>\n",
              "</div>"
            ]
          },
          "metadata": {},
          "execution_count": 13
        }
      ],
      "source": [
        "print(f'\\nAudio samples represented: {features.shape[0]}')\n",
        "print(f'Numerical features extracted per sample: {features.shape[1]}')\n",
        "features_df = pd.DataFrame(features) # make it pretty for display\n",
        "\n",
        "\n",
        "#making dataframe for emotions as well\n",
        "emotions_df = pd.DataFrame(emotions) # make it pretty for display\n",
        "\n",
        "features_df"
      ]
    },
    {
      "cell_type": "markdown",
      "metadata": {
        "pycharm": {
          "name": "#%% md\n"
        },
        "id": "Tq083zLEL9hH"
      },
      "source": [
        "We have a matrix of dim 1435 x 180. Looks good - 1435 audio samples, one per row, with a series of\n",
        "180 numerical features for each sample.\n",
        "\n",
        "**Each of the 1435 feature arrays has 180 features composed of 12 chromagram pitch classes + 128 mel spectrogram bands + 40 MFC coefficients.**"
      ]
    },
    {
      "cell_type": "markdown",
      "source": [
        "Now we will save our features matrix and emotions array in excel file we dont have to compute them everytime we run the notebook, we can just load them from the excel file whenever required. Make sure to change the path to according to your drive."
      ],
      "metadata": {
        "id": "VF2SggHTDqbQ"
      }
    },
    {
      "cell_type": "code",
      "source": [
        "features_df.to_csv('Desktop/New Audio/featuresRavdess.csv')\n",
        "emotions_df.to_csv('Desktop/New Audio/emotionsRavdess.csv')\n"
      ],
      "metadata": {
        "id": "u6H8hc6gDtbp"
      },
      "execution_count": 14,
      "outputs": []
    },
    {
      "cell_type": "markdown",
      "source": [
        "## Load pre-saved Dataset"
      ],
      "metadata": {
        "id": "VpE5m-5aEyoB"
      }
    },
    {
      "cell_type": "markdown",
      "source": [
        "Once saved you only need to load them later by running the cell below, and **skip every cell above** except for the one in which we import libraries."
      ],
      "metadata": {
        "id": "hHPB7dCqEotR"
      }
    },
    {
      "cell_type": "code",
      "source": [
        "features=pd.read_csv('Desktop/New Audio/featuresRavdess.csv',index_col=0)\n",
        "emotions=pd.read_csv('Desktop/New Audio/emotionsRavdess.csv',index_col=0)"
      ],
      "metadata": {
        "id": "-8nlJCESEn56"
      },
      "execution_count": 15,
      "outputs": []
    },
    {
      "cell_type": "markdown",
      "source": [
        "let's see if they have been loaded correctly!"
      ],
      "metadata": {
        "id": "4x2dXjybD1NM"
      }
    },
    {
      "cell_type": "code",
      "source": [
        "features.head()"
      ],
      "metadata": {
        "id": "B5Xo1SVMD0qR",
        "outputId": "dde7c7cc-4f4e-4791-91b3-982190fb1ec6",
        "colab": {
          "base_uri": "https://localhost:8080/",
          "height": 256
        }
      },
      "execution_count": 16,
      "outputs": [
        {
          "output_type": "execute_result",
          "data": {
            "text/plain": [
              "          0         1         2         3         4         5         6  \\\n",
              "0  0.674180  0.650402  0.586557  0.555190  0.575820  0.606190  0.628844   \n",
              "1  0.705345  0.758194  0.799771  0.756482  0.667762  0.586619  0.599169   \n",
              "2  0.605143  0.581898  0.581112  0.585075  0.603112  0.652321  0.756348   \n",
              "3  0.751363  0.783894  0.778168  0.745267  0.684792  0.648747  0.657843   \n",
              "4  0.566185  0.562793  0.550852  0.583258  0.630199  0.734844  0.785647   \n",
              "\n",
              "          7         8         9  ...       170       171       172       173  \\\n",
              "0  0.608408  0.530024  0.515425  ...  1.779576 -0.515214 -2.635644  2.612570   \n",
              "1  0.629484  0.641612  0.678303  ... -3.450420 -5.186919 -3.710735 -0.514399   \n",
              "2  0.768405  0.730797  0.720527  ... -0.969906 -0.394818  0.713147  0.106606   \n",
              "3  0.645401  0.659438  0.723099  ... -0.819816 -1.438696  0.302157 -0.657375   \n",
              "4  0.718424  0.690923  0.689392  ... -2.500819 -1.544249 -0.076356 -1.632957   \n",
              "\n",
              "        174       175       176       177       178       179  \n",
              "0  1.836902 -1.667088  0.586042 -0.978776  0.381642 -3.481533  \n",
              "1 -3.875247  0.297649 -0.504950 -6.052926 -3.277607 -3.947840  \n",
              "2 -0.093909  1.483318  4.106814 -0.836721 -0.140783  0.340809  \n",
              "3 -2.417934 -0.504936 -0.061966 -2.759357 -1.839828 -2.600537  \n",
              "4 -0.649109  2.498255  3.578426 -1.722739  0.992053  0.171480  \n",
              "\n",
              "[5 rows x 180 columns]"
            ],
            "text/html": [
              "<div>\n",
              "<style scoped>\n",
              "    .dataframe tbody tr th:only-of-type {\n",
              "        vertical-align: middle;\n",
              "    }\n",
              "\n",
              "    .dataframe tbody tr th {\n",
              "        vertical-align: top;\n",
              "    }\n",
              "\n",
              "    .dataframe thead th {\n",
              "        text-align: right;\n",
              "    }\n",
              "</style>\n",
              "<table border=\"1\" class=\"dataframe\">\n",
              "  <thead>\n",
              "    <tr style=\"text-align: right;\">\n",
              "      <th></th>\n",
              "      <th>0</th>\n",
              "      <th>1</th>\n",
              "      <th>2</th>\n",
              "      <th>3</th>\n",
              "      <th>4</th>\n",
              "      <th>5</th>\n",
              "      <th>6</th>\n",
              "      <th>7</th>\n",
              "      <th>8</th>\n",
              "      <th>9</th>\n",
              "      <th>...</th>\n",
              "      <th>170</th>\n",
              "      <th>171</th>\n",
              "      <th>172</th>\n",
              "      <th>173</th>\n",
              "      <th>174</th>\n",
              "      <th>175</th>\n",
              "      <th>176</th>\n",
              "      <th>177</th>\n",
              "      <th>178</th>\n",
              "      <th>179</th>\n",
              "    </tr>\n",
              "  </thead>\n",
              "  <tbody>\n",
              "    <tr>\n",
              "      <th>0</th>\n",
              "      <td>0.674180</td>\n",
              "      <td>0.650402</td>\n",
              "      <td>0.586557</td>\n",
              "      <td>0.555190</td>\n",
              "      <td>0.575820</td>\n",
              "      <td>0.606190</td>\n",
              "      <td>0.628844</td>\n",
              "      <td>0.608408</td>\n",
              "      <td>0.530024</td>\n",
              "      <td>0.515425</td>\n",
              "      <td>...</td>\n",
              "      <td>1.779576</td>\n",
              "      <td>-0.515214</td>\n",
              "      <td>-2.635644</td>\n",
              "      <td>2.612570</td>\n",
              "      <td>1.836902</td>\n",
              "      <td>-1.667088</td>\n",
              "      <td>0.586042</td>\n",
              "      <td>-0.978776</td>\n",
              "      <td>0.381642</td>\n",
              "      <td>-3.481533</td>\n",
              "    </tr>\n",
              "    <tr>\n",
              "      <th>1</th>\n",
              "      <td>0.705345</td>\n",
              "      <td>0.758194</td>\n",
              "      <td>0.799771</td>\n",
              "      <td>0.756482</td>\n",
              "      <td>0.667762</td>\n",
              "      <td>0.586619</td>\n",
              "      <td>0.599169</td>\n",
              "      <td>0.629484</td>\n",
              "      <td>0.641612</td>\n",
              "      <td>0.678303</td>\n",
              "      <td>...</td>\n",
              "      <td>-3.450420</td>\n",
              "      <td>-5.186919</td>\n",
              "      <td>-3.710735</td>\n",
              "      <td>-0.514399</td>\n",
              "      <td>-3.875247</td>\n",
              "      <td>0.297649</td>\n",
              "      <td>-0.504950</td>\n",
              "      <td>-6.052926</td>\n",
              "      <td>-3.277607</td>\n",
              "      <td>-3.947840</td>\n",
              "    </tr>\n",
              "    <tr>\n",
              "      <th>2</th>\n",
              "      <td>0.605143</td>\n",
              "      <td>0.581898</td>\n",
              "      <td>0.581112</td>\n",
              "      <td>0.585075</td>\n",
              "      <td>0.603112</td>\n",
              "      <td>0.652321</td>\n",
              "      <td>0.756348</td>\n",
              "      <td>0.768405</td>\n",
              "      <td>0.730797</td>\n",
              "      <td>0.720527</td>\n",
              "      <td>...</td>\n",
              "      <td>-0.969906</td>\n",
              "      <td>-0.394818</td>\n",
              "      <td>0.713147</td>\n",
              "      <td>0.106606</td>\n",
              "      <td>-0.093909</td>\n",
              "      <td>1.483318</td>\n",
              "      <td>4.106814</td>\n",
              "      <td>-0.836721</td>\n",
              "      <td>-0.140783</td>\n",
              "      <td>0.340809</td>\n",
              "    </tr>\n",
              "    <tr>\n",
              "      <th>3</th>\n",
              "      <td>0.751363</td>\n",
              "      <td>0.783894</td>\n",
              "      <td>0.778168</td>\n",
              "      <td>0.745267</td>\n",
              "      <td>0.684792</td>\n",
              "      <td>0.648747</td>\n",
              "      <td>0.657843</td>\n",
              "      <td>0.645401</td>\n",
              "      <td>0.659438</td>\n",
              "      <td>0.723099</td>\n",
              "      <td>...</td>\n",
              "      <td>-0.819816</td>\n",
              "      <td>-1.438696</td>\n",
              "      <td>0.302157</td>\n",
              "      <td>-0.657375</td>\n",
              "      <td>-2.417934</td>\n",
              "      <td>-0.504936</td>\n",
              "      <td>-0.061966</td>\n",
              "      <td>-2.759357</td>\n",
              "      <td>-1.839828</td>\n",
              "      <td>-2.600537</td>\n",
              "    </tr>\n",
              "    <tr>\n",
              "      <th>4</th>\n",
              "      <td>0.566185</td>\n",
              "      <td>0.562793</td>\n",
              "      <td>0.550852</td>\n",
              "      <td>0.583258</td>\n",
              "      <td>0.630199</td>\n",
              "      <td>0.734844</td>\n",
              "      <td>0.785647</td>\n",
              "      <td>0.718424</td>\n",
              "      <td>0.690923</td>\n",
              "      <td>0.689392</td>\n",
              "      <td>...</td>\n",
              "      <td>-2.500819</td>\n",
              "      <td>-1.544249</td>\n",
              "      <td>-0.076356</td>\n",
              "      <td>-1.632957</td>\n",
              "      <td>-0.649109</td>\n",
              "      <td>2.498255</td>\n",
              "      <td>3.578426</td>\n",
              "      <td>-1.722739</td>\n",
              "      <td>0.992053</td>\n",
              "      <td>0.171480</td>\n",
              "    </tr>\n",
              "  </tbody>\n",
              "</table>\n",
              "<p>5 rows × 180 columns</p>\n",
              "</div>"
            ]
          },
          "metadata": {},
          "execution_count": 16
        }
      ]
    },
    {
      "cell_type": "markdown",
      "metadata": {
        "id": "esInVDq7L9hT"
      },
      "source": [
        "Let's see the class balance of our dataset:"
      ]
    },
    {
      "cell_type": "code",
      "execution_count": 17,
      "metadata": {
        "id": "Si3OFQe7L9hU",
        "outputId": "811f89af-97d2-4271-be8f-7f4555b4460e",
        "colab": {
          "base_uri": "https://localhost:8080/",
          "height": 394
        }
      },
      "outputs": [
        {
          "output_type": "display_data",
          "data": {
            "text/plain": [
              "<Figure size 3500x400 with 1 Axes>"
            ],
            "image/png": "[encoded data removed]"
          },
          "metadata": {}
        }
      ],
      "source": [
        "# plot emotions\n",
        "plt.figure(figsize=(35,4))\n",
        "plt.subplot(1,3,1)\n",
        "#np.unique returns ordered list of unique elements and count of each element\n",
        "emotion_list, count = np.unique(emotions, return_counts=True)\n",
        "plt.bar(x=range(8), height=count)\n",
        "plt.xticks(ticks=range(8), labels = [emotion for emotion in emotion_list],fontsize=10)\n",
        "plt.xlabel('Emotion')\n",
        "plt.tick_params(labelsize=16)\n",
        "plt.ylabel('Number of Samples')\n",
        "plt.show()"
      ]
    },
    {
      "cell_type": "markdown",
      "metadata": {
        "id": "Mw_wKC8WL9hV"
      },
      "source": [
        "**Great, the classes appear to be balanced. That makes the task easier.** All emotions _except_ the neutral class have a \"strong\" intensity so there are half as many neutral samples. That might have an impact."
      ]
    },
    {
      "cell_type": "markdown",
      "metadata": {
        "id": "WhtlYshOL9hV"
      },
      "source": [
        "### Feature Scaling\n",
        "To properly train most machine learning models on _most_ datasets, we first need to scale our features. **This is crucial for models which compute distances between data, and especially critical for DNNs**: If there is a difference in the variance of features simply because of their possible range of values, then a model will learn that the features with the greatest variance are the most important. However, **differences in the variance of unscaled features belonging to different and unknown distributions is an inappropriate measure of importance.** Let's check our features' properties:"
      ]
    },
    {
      "cell_type": "code",
      "execution_count": 18,
      "metadata": {
        "id": "_IUm1DLwL9hW",
        "outputId": "5721f906-ef3e-4168-fd0a-8e803747a7a9",
        "colab": {
          "base_uri": "https://localhost:8080/"
        }
      },
      "outputs": [
        {
          "output_type": "stream",
          "name": "stdout",
          "text": [
            "12 Chromagram features:           min = 0.406,     max = 0.844,     mean = 0.648,     deviation = 0.085\n",
            "\n",
            "128 Mel Spectrogram features:     min = 0.000,     max = 83.509,     mean = 0.332,     deviation = 2.752\n",
            "\n",
            "40 MFCC features:                 min = -579.987,    max = 123.234,    mean = -9.208,    deviation = 84.200\n"
          ]
        }
      ],
      "source": [
        "# We would usually use df.describe(), but it provides a bit of a mess of information we don't need at the moment.\n",
        "def print_features(df):\n",
        "    # Check chromagram feature values\n",
        "    features_df_chromagram = df.iloc[:,:11]\n",
        "    chroma_min = features_df_chromagram.min().min()\n",
        "    chroma_max = features_df_chromagram.max().max()\n",
        "    # stack all features into a single series so we don't get a mean of means or stdev of stdevs\n",
        "    chroma_mean = features_df_chromagram.stack().mean()\n",
        "    chroma_stdev = features_df_chromagram.stack().std()\n",
        "    print(f'12 Chromagram features:       \\\n",
        "    min = {chroma_min:.3f}, \\\n",
        "    max = {chroma_max:.3f}, \\\n",
        "    mean = {chroma_mean:.3f}, \\\n",
        "    deviation = {chroma_stdev:.3f}')\n",
        "\n",
        "    # Check mel spectrogram feature values\n",
        "    features_df_melspectrogram = df.iloc[:,12:139]\n",
        "    mel_min = features_df_melspectrogram.min().min()\n",
        "    mel_max = features_df_melspectrogram.max().max()\n",
        "    # stack all features into a single series so we don't get a mean of means or stdev of stdevs\n",
        "    mel_mean = features_df_melspectrogram.stack().mean()\n",
        "    mel_stdev = features_df_melspectrogram.stack().std()\n",
        "    print(f'\\n128 Mel Spectrogram features: \\\n",
        "    min = {mel_min:.3f}, \\\n",
        "    max = {mel_max:.3f}, \\\n",
        "    mean = {mel_mean:.3f}, \\\n",
        "    deviation = {mel_stdev:.3f}')\n",
        "\n",
        "    # Check MFCC feature values\n",
        "    features_df_mfcc = df.iloc[:,140:179]\n",
        "    mfcc_min = features_df_mfcc.min().min()\n",
        "    mfcc_max = features_df_mfcc.max().max()\n",
        "    # stack all features into a single series so we don't get a mean of means or stdev of stdevs\n",
        "    mfcc_mean = features_df_mfcc.stack().mean()\n",
        "    mfcc_stdev = features_df_mfcc.stack().std()\n",
        "    print(f'\\n40 MFCC features:             \\\n",
        "    min = {mfcc_min:.3f},\\\n",
        "    max = {mfcc_max:.3f},\\\n",
        "    mean = {mfcc_mean:.3f},\\\n",
        "    deviation = {mfcc_stdev:.3f}')\n",
        "\n",
        "print_features(features_df)"
      ]
    },
    {
      "cell_type": "code",
      "source": [],
      "metadata": {
        "id": "3ha1FxBSCpqA"
      },
      "execution_count": null,
      "outputs": []
    },
    {
      "cell_type": "markdown",
      "metadata": {
        "id": "gFgQlYSlL9hW"
      },
      "source": [
        "**There's an obvious imbalance in the variance our features; Our features indeed belong to very different distributions:** our MFC coefficients' deviation is greater than the other features by orders of magnitude. That does not mean MFC coefficients are the most important feature, but rather it is a property of the way they are computed.  We will certainly need to scale this feature set.\n",
        "\n",
        "We have the choice of sklearn's StandardScaler and MinMaxScaler. Standard scaling subtracts the mean of each feature and divides it by the standard deviation of that feature, producing features with mean at zero and unit variance - that is, a variance and standard deviation of 1. Min-Max scaling transforms each feature to be within a bounded interval that we specify.\n",
        "\n",
        "In practice, **MinMax scaling is especially useful when we know our features should be in a bounded interval**, such as pixel values in [0,255], while **standard scaling is perhaps more practical for features with unknown distributions** because centering the features at zero-mean with a standard deviation of 1 means extreme values will have less of an impact on the model's learned weights, i.e. the model is less sensitive to outliers.\n",
        "\n",
        "We'll create MinMax scaled features as well so we can give them a try later on to confirm that standard scaling is better in the absence of knowledge on the appropriate distribution for a dataset's features."
      ]
    },
    {
      "cell_type": "code",
      "execution_count": 19,
      "metadata": {
        "id": "_BCAYVEUL9hW"
      },
      "outputs": [],
      "source": [
        "#to normalize data- give you scale feature\n",
        "from sklearn.preprocessing import StandardScaler\n",
        "from sklearn.preprocessing import MinMaxScaler\n",
        "\n",
        "scaler = StandardScaler()\n",
        "# keep our unscaled features just in case we need to process them alternatively\n",
        "features_scaled = features\n",
        "features_scaled = scaler.fit_transform(features_scaled)\n",
        "\n",
        "scaler = MinMaxScaler()\n",
        "# keep our unscaled features just in case we need to process them alternatively\n",
        "features_minmax = features\n",
        "features_minmax = scaler.fit_transform(features_minmax)"
      ]
    },
    {
      "cell_type": "markdown",
      "metadata": {
        "id": "r4ATx5oNL9hX"
      },
      "source": [
        "Make sure our features are properly scaled:"
      ]
    },
    {
      "cell_type": "code",
      "execution_count": 20,
      "metadata": {
        "id": "mlRuHQkKL9hX",
        "outputId": "40d3c9a1-502b-4164-fa31-7ba0c4f71f6a",
        "colab": {
          "base_uri": "https://localhost:8080/"
        }
      },
      "outputs": [
        {
          "output_type": "stream",
          "name": "stdout",
          "text": [
            "\u001b[1mStandard Scaling:\n",
            "\u001b[0m\n",
            "12 Chromagram features:           min = -2.319,     max = 1.972,     mean = -0.000,     deviation = 1.002\n",
            "\n",
            "128 Mel Spectrogram features:     min = -1.300,     max = 4.786,     mean = -0.000,     deviation = 1.000\n",
            "\n",
            "40 MFCC features:                 min = -3.185,    max = 3.483,    mean = 0.000,    deviation = 1.001\n",
            "\n",
            "\n",
            "\u001b[1mMinMax Scaling:\n",
            "\u001b[0m\n",
            "12 Chromagram features:           min = 0.000,     max = 1.000,     mean = 0.528,     deviation = 0.296\n",
            "\n",
            "128 Mel Spectrogram features:     min = 0.000,     max = 1.000,     mean = 0.101,     deviation = 0.236\n",
            "\n",
            "40 MFCC features:                 min = 0.000,    max = 1.000,    mean = 0.485,    deviation = 0.276\n"
          ]
        }
      ],
      "source": [
        "print('\\033[1m'+'Standard Scaling:\\n'+'\\033[0m')\n",
        "features_scaled_df = pd.DataFrame(features_scaled)\n",
        "print_features(features_scaled_df)\n",
        "\n",
        "print('\\n\\n\\033[1m'+'MinMax Scaling:\\n'+'\\033[0m')\n",
        "features_minmax_df = pd.DataFrame(features_minmax)\n",
        "print_features(features_minmax_df)"
      ]
    },
    {
      "cell_type": "markdown",
      "metadata": {
        "id": "vZfzIh7DL9hX"
      },
      "source": [
        "Perfect. Zero mean and unit variance for standard scaling and in the range [0,1] for MinMax scaling - a default when we don't specify values. We can now move on to building predictive models for these features."
      ]
    },
    {
      "cell_type": "markdown",
      "metadata": {
        "id": "z5tXewLEL9hX"
      },
      "source": [
        "## Classical Machine Learning Models\n",
        "\n",
        "\n",
        "Classical machine learning models encompass a broad range of algorithms that have been foundational to the field's development and are still widely used for various predictive tasks. These models can be broadly categorized into supervised and unsupervised learning methods, each suited for different kinds of data and objectives.\n",
        "\n",
        "We will be looking into few popular Machine Learning Algorithms such as Support Vector Machine(SVM), K-Nearest Neighbors and Random Forest Classifier. There are many other classical models with their own strengths and weaknesses, and the choice of model depends on the specific requirements of the task, including the nature of the data, the complexity of the problem, and the computational efficiency required. Despite the rise of deep learning, classical machine learning models remain vital tools in a data scientist's arsenal due to their efficiency, interpretability, and strong performance in many scenarios.\n",
        "\n",
        "The use of classic machine learning method is due to the small size of our dataset; Some of the most robust models such as Support vector (machine) classifiers **(SVC) and k-Nearest-Neighbour classifiers (kNN) are particularly suited to smaller datasets and fall apart with huge datasets.**\n"
      ]
    },
    {
      "cell_type": "markdown",
      "metadata": {
        "id": "jwU-jXSGL9hY"
      },
      "source": [
        "### Training: The 80/20 Split and Validation\n",
        "In order to compare models, we'll have to evaluate their performance. The simplest method to do so is to train a model on a portion of our dataset and test it on the remainder. We'll use sklearn's train_test_split to create a standard 80/20 train/test split. The model is fit on 80% of\n",
        "the data and tested for performance against 20% of the data, which it has never seen in training - also called the hold-out set.\n",
        " <img src=\"https://github.com/IAT-ExploringAI-2024/Week3-Machine_Learning/blob/main/images/Capture2.PNG?raw=true\" width=\"800\">\n",
        "\n",
        "More accurately, the proper modality for training and scoring a model is to\n",
        "1. Fit/train our model on a _training_ set,\n",
        "2. Evaluate the model on a _validation_ set to tune the hyperparameters for better performance,\n",
        "3. Finally score our model's true performance - its **generalizability** - against a _test_ set, aka the hold-out set.\n",
        "4. Repeat from 2. **Do not tune the model to score well on the test set**. Only evaluate on test-set once.\n",
        "\n",
        "Different set ratios are used in this approach - a usual example is 60/20/20 train/validation/test.For simplicity, we're going to start with an 80/20 train/test split. The model will be trained on all the training data, and we will check its performance on the test data. We'll skip validation for now.\n",
        "\n",
        " <img src=\"https://github.com/IAT-ExploringAI-2024/Week3-ClassicML/blob/main/images/traintestsplit.PNG?raw=true\" width=\"800\">\n",
        "\n",
        "Define unscaled and scaled training and test sets:"
      ]
    },
    {
      "cell_type": "code",
      "execution_count": 21,
      "metadata": {
        "id": "8jGN4ROVL9hY"
      },
      "outputs": [],
      "source": [
        "from sklearn.model_selection import train_test_split\n",
        "\n",
        "\n",
        "############# Unscaled test/train set #############\n",
        "X_train, X_test, y_train, y_test =train_test_split(\n",
        "    features,\n",
        "    emotions,\n",
        "    test_size=0.2,\n",
        "    random_state=42\n",
        ")\n",
        "\n",
        "############ Standard Scaled test/train set ###########\n",
        "# The labels/classes (y_train, y_test) never change, keep old values\n",
        "X_train_scaled, X_test_scaled, _, _ = train_test_split(\n",
        "    features_scaled,\n",
        "    emotions,\n",
        "    test_size=0.2,\n",
        "    random_state=42\n",
        ")\n",
        "\n",
        "############# MinMax Scaled test/train set ###############\n",
        "# The labels/classes (y_train, y_test) never change, keep old values\n",
        "X_train_minmax, X_test_minmax, _, _ = train_test_split(\n",
        "    features_scaled,\n",
        "    emotions,\n",
        "    test_size=0.2,\n",
        "    random_state=42\n",
        ")"
      ]
    },
    {
      "cell_type": "markdown",
      "metadata": {
        "id": "Q3Mh0RrEL9hY"
      },
      "source": [
        "### Comparing Models\n",
        "We'll try each off-the-shelf machine learning model from sklearn and pick a few to explore, since these models will train near instantly on this dataset."
      ]
    },
    {
      "cell_type": "code",
      "execution_count": 22,
      "metadata": {
        "scrolled": true,
        "id": "iLPeyR7vL9he",
        "outputId": "a6831556-816a-4d8f-ed89-ad65e34dff13",
        "colab": {
          "base_uri": "https://localhost:8080/",
          "height": 300
        }
      },
      "outputs": [
        {
          "output_type": "execute_result",
          "data": {
            "text/plain": [
              "                      Classifier Accuracy Score\n",
              "3         DecisionTreeClassifier         40.00%\n",
              "1                            SVC         20.00%\n",
              "4         RandomForestClassifier         20.00%\n",
              "5             AdaBoostClassifier         20.00%\n",
              "6                     GaussianNB         20.00%\n",
              "0           KNeighborsClassifier          0.00%\n",
              "2                 SVC RBF kernel          0.00%\n",
              "7  QuadraticDiscriminantAnalysis          0.00%"
            ],
            "text/html": [
              "<div>\n",
              "<style scoped>\n",
              "    .dataframe tbody tr th:only-of-type {\n",
              "        vertical-align: middle;\n",
              "    }\n",
              "\n",
              "    .dataframe tbody tr th {\n",
              "        vertical-align: top;\n",
              "    }\n",
              "\n",
              "    .dataframe thead th {\n",
              "        text-align: right;\n",
              "    }\n",
              "</style>\n",
              "<table border=\"1\" class=\"dataframe\">\n",
              "  <thead>\n",
              "    <tr style=\"text-align: right;\">\n",
              "      <th></th>\n",
              "      <th>Classifier</th>\n",
              "      <th>Accuracy Score</th>\n",
              "    </tr>\n",
              "  </thead>\n",
              "  <tbody>\n",
              "    <tr>\n",
              "      <th>3</th>\n",
              "      <td>DecisionTreeClassifier</td>\n",
              "      <td>40.00%</td>\n",
              "    </tr>\n",
              "    <tr>\n",
              "      <th>1</th>\n",
              "      <td>SVC</td>\n",
              "      <td>20.00%</td>\n",
              "    </tr>\n",
              "    <tr>\n",
              "      <th>4</th>\n",
              "      <td>RandomForestClassifier</td>\n",
              "      <td>20.00%</td>\n",
              "    </tr>\n",
              "    <tr>\n",
              "      <th>5</th>\n",
              "      <td>AdaBoostClassifier</td>\n",
              "      <td>20.00%</td>\n",
              "    </tr>\n",
              "    <tr>\n",
              "      <th>6</th>\n",
              "      <td>GaussianNB</td>\n",
              "      <td>20.00%</td>\n",
              "    </tr>\n",
              "    <tr>\n",
              "      <th>0</th>\n",
              "      <td>KNeighborsClassifier</td>\n",
              "      <td>0.00%</td>\n",
              "    </tr>\n",
              "    <tr>\n",
              "      <th>2</th>\n",
              "      <td>SVC RBF kernel</td>\n",
              "      <td>0.00%</td>\n",
              "    </tr>\n",
              "    <tr>\n",
              "      <th>7</th>\n",
              "      <td>QuadraticDiscriminantAnalysis</td>\n",
              "      <td>0.00%</td>\n",
              "    </tr>\n",
              "  </tbody>\n",
              "</table>\n",
              "</div>"
            ]
          },
          "metadata": {},
          "execution_count": 22
        }
      ],
      "source": [
        "from sklearn.neighbors import KNeighborsClassifier\n",
        "from sklearn.svm import SVC\n",
        "from sklearn.tree import DecisionTreeClassifier\n",
        "from sklearn.ensemble import RandomForestClassifier, AdaBoostClassifier\n",
        "from sklearn.naive_bayes import GaussianNB\n",
        "from sklearn.discriminant_analysis import QuadraticDiscriminantAnalysis\n",
        "\n",
        "classification_models = [\n",
        "    KNeighborsClassifier(),#(3),\n",
        "    SVC(kernel='linear'),#, C=0.025),\n",
        "    SVC(kernel='rbf'),\n",
        "    DecisionTreeClassifier(),#max_depth=5),\n",
        "    RandomForestClassifier(),#max_depth=5, n_estimators=10, max_features=1),\n",
        "    AdaBoostClassifier(),\n",
        "    GaussianNB(),\n",
        "    QuadraticDiscriminantAnalysis()]\n",
        "\n",
        "scores = []\n",
        "for model in classification_models:\n",
        "    model.fit(X_train_scaled, y_train)\n",
        "    score = model.score(X_test_scaled, y_test)\n",
        "    model_name = type(model).__name__\n",
        "    if model_name=='SVC' and model.kernel=='rbf': model_name+=' RBF kernel'\n",
        "    scores.append((model_name,(f'{100*score:.2f}%')))\n",
        "# Make it pretty\n",
        "scores_df = pd.DataFrame(scores,columns=['Classifier','Accuracy Score'])\n",
        "scores_df.sort_values(by='Accuracy Score',axis=0,ascending=False)"
      ]
    },
    {
      "cell_type": "markdown",
      "metadata": {
        "id": "JrD98CpPL9he"
      },
      "source": [
        "Let's pick the top three - Random Forests, SVC, and kNN - and take a closer look at each of them."
      ]
    },
    {
      "cell_type": "markdown",
      "metadata": {
        "id": "4dBNoEolL9hf"
      },
      "source": [
        "### The Support Vector Machine Classifier\n",
        "\n",
        "We'll go in chronological order. First is the support vector machine classifier (SVC) - a model from the 60s. SVMs are models quick to train for this task and best suited to small datasets due to its quadratic time complexity w.r.t. size of the training dataset (# of training samples). This is also the reason it breaks down with larger datasets since it becomes very expensive to train.\n",
        "\n",
        "The idea behind SVMs on which the SVC model is based is to find a separating hyperplane - a subspace with dimension one less than that of the feature space - for points in our feature space; i.e. for a 3D space, a hyperplane is a regular plane, in 2D, a line. This idea extends to n dimensions. If points are separable by a hyperplane, they are said to be linearly separable. **Since there are infinite possible separating hyperplanes for any linearly separable feature space, an SVM computes which points are closest to each such hyperplane and uses them to construct a _support vector_. The SVM picks the hyperplane which maximizes the distance - _margin_ - to each support vector.** In this way, we maximize the separating ability of the chosen hyperplane.\n",
        "\n",
        "The core of SVMs is the kernel. We could map all new points from our input space, where they were not separable by a hyperplane, to a higher dimension in which we have found a hyperplane to separate the points in that space. However, that would be extremely computationally expensive for data that needs to be mapped to much higher dimensions. Instead, we **compute the hyperplane in the higher dimension on our training data and map the hyperplane back to the lower-dimension input space to use for classifying our data. This is the _kernel trick_, whereby the kernel (function) enables us to compute distances to new points in the input space without transforming each to the higher dimensional space - drastically reducing the computational complexity of the SVM.**\n",
        "\n",
        " <img src=\"https://github.com/IAT-ExploringAI-2024/Week3-Machine_Learning/blob/main/images/kernel1.png?raw=true\" width=\"800\">"
      ]
    },
    {
      "cell_type": "markdown",
      "metadata": {
        "id": "r-VTE6HjL9hf"
      },
      "source": [
        "A linear kernel should always be tested because **a linear kernel is much faster to train than a non-linear kernel**; however, properly tuned, a non-linear kernel often provides the best possible predictive performance. **RBF (radial basis function) is a good default to use for a non-linear kernel** and often is the best non-linear kernel because it usually provides a higher accuracy compared to other non-linear kernels at the cost of higher computational complexity. We can afford to try the RBF kernel because our dataset is small.\n",
        "\n",
        "If you want to explore further please have a look at [this article](https://www.analyticsvidhya.com/blog/2021/10/support-vector-machinessvm-a-complete-guide-for-beginners/)"
      ]
    },
    {
      "cell_type": "code",
      "execution_count": 23,
      "metadata": {
        "id": "ruBbt50ML9hf",
        "outputId": "97c1e848-f2ad-4077-c3b0-8c27e6e97bdc",
        "colab": {
          "base_uri": "https://localhost:8080/"
        }
      },
      "outputs": [
        {
          "output_type": "stream",
          "name": "stdout",
          "text": [
            "SVC Model's accuracy on training set is 100.00%\n",
            "SVC Model's accuracy on test set is 0.00%\n"
          ]
        }
      ],
      "source": [
        "from sklearn.svm import SVC\n",
        "\n",
        "model = SVC(\n",
        "    C=10,  #higher the value tighter the margin\n",
        "    gamma='auto',\n",
        "    kernel='rbf',\n",
        "    random_state=42\n",
        ")\n",
        "\n",
        "model.fit(X_train, y_train)\n",
        "\n",
        "print(f'SVC Model\\'s accuracy on training set is {100*model.score(X_train, y_train):.2f}%')\n",
        "print(f'SVC Model\\'s accuracy on test set is {100*model.score(X_test, y_test):.2f}%')"
      ]
    },
    {
      "cell_type": "markdown",
      "metadata": {
        "id": "PIm1a-tiL9hg"
      },
      "source": [
        "Not bad at all for the relatively simple SVC model. **Hyperparameter 𝐶 regulates the margin.** It might do well to optimize the SVC model further if we don't find a better one. As it stands, we are looking for considerably higher performance in this task.\n",
        "\n",
        "Check out [this link](https://towardsdatascience.com/visualizing-the-effect-of-hyperparameters-on-support-vector-machines-b9eef6f7357b) for visual representation of affect of changes in C and gamma."
      ]
    },
    {
      "cell_type": "markdown",
      "metadata": {
        "id": "j72LJRfCL9hg"
      },
      "source": [
        "### k Nearest Neighbours\n",
        "\n",
        "k Nearest Neighbours (kNN) is next in line, a tried-and-true machine learning method from the 70s. kNN makes a lot of intuitive sense: imagine plotting points on a graph and drawing gates around points that look like they belong to the same group. That's what it is - we **plot our training samples' features and compare a test sample's features' distance to all those points; then just take the _k_ closest points to the test sample and pick the most frequent label/class.** That's it.\n",
        "\n",
        "kNN is a great starting point for multiclass problems with small datasets, although on large dadtasets less reliable and extremely memory hungry (it stores all training sample points). kNN is also useful in that it makes **no assumptions about the underlying distribution of the data set - so kNNs work well for both linear and non-linear data.** In the 2D example:\n",
        "\n",
        "<img src=\"https://github.com/IAT-ExploringAI-2024/Week3-ClassicML/blob/main/images/knn.png?raw=true\" width=400 height=400 />"
      ]
    },
    {
      "cell_type": "code",
      "execution_count": 24,
      "metadata": {
        "id": "qaeCneMiL9hg",
        "outputId": "a6c610f3-1e53-442a-c1c5-d4ebf21e2f51",
        "colab": {
          "base_uri": "https://localhost:8080/"
        }
      },
      "outputs": [
        {
          "output_type": "stream",
          "name": "stdout",
          "text": [
            "Default kNN Model's accuracy on training set is 36.84%\n",
            "Default kNN Model's accuracy on test set is 0.00%\n",
            "\n",
            "kNN Model's accuracy on training set is 100.00%\n",
            "kNN Model's accuracy on test set is 0.00%\n"
          ]
        }
      ],
      "source": [
        "from sklearn.neighbors import KNeighborsClassifier\n",
        "\n",
        "####### Default kNN  ########\n",
        "model = KNeighborsClassifier(\n",
        ")\n",
        "\n",
        "model.fit(X_train, y_train)\n",
        "\n",
        "print(f'Default kNN Model\\'s accuracy on training set is {100*model.score(X_train, y_train):.2f}%')\n",
        "print(f'Default kNN Model\\'s accuracy on test set is {100*model.score(X_test, y_test):.2f}%\\n')\n",
        "\n",
        "##### (hastily) tuned kNN ######\n",
        "model = KNeighborsClassifier(\n",
        "    n_neighbors = 5,\n",
        "    weights = 'distance',\n",
        "    algorithm = 'brute',\n",
        "    n_jobs=4\n",
        ")\n",
        "\n",
        "model.fit(X_train, y_train)\n",
        "\n",
        "print(f'kNN Model\\'s accuracy on training set is {100*model.score(X_train, y_train):.2f}%')\n",
        "print(f'kNN Model\\'s accuracy on test set is {100*model.score(X_test, y_test):.2f}%')"
      ]
    },
    {
      "cell_type": "markdown",
      "metadata": {
        "id": "BxVEKUyiL9hh"
      },
      "source": [
        "**The brute-force algorithm computes distances between all pairs of points in the training set; works especially well for small datasets** but wildly inefficient w.r.t. increasing samples and feature space dimension. Not bad for 2 minutes of work, but still not suitable for this task."
      ]
    },
    {
      "cell_type": "markdown",
      "metadata": {
        "id": "zvQ3av4cL9hh"
      },
      "source": [
        "### Random Forests\n",
        "Finally, and before resorting to deep learning methods, let's try a Random Forest -  a model from the 21st century (2001). **We train many distinct decision trees which are essentially directed acyclic graphs (DAGs), somewhat similar to a flow chart. The collection of (decision) trees makes up our Random Forest.**\n",
        "\n",
        "At each node of the tree we have a function (a rule) that evaluates whether the features of samples input to that node belong to one class or another. Each branch of the tree (or, edge of the graph) defines one of two possible results from a node, and each leaf is one of two decisions made by its parent node. **Each tree in the forest evaluates a random subset of the training samples' features and has a rule at each level of the tree that classifies based on these random features - hence, _Random_ Forest. This random selection of features makes Random Forests robust to outliers**, as such features will have less of an impact in the scope of the entire forest, most of whose trees operate on the \"real\" features.\n",
        "\n",
        "**Random Forests are excellent models to use as a benchmark due to their low time complexity to train and because it is an ensemble method, their robustness to unknown distributions and outliers in the dataset,** meaning Random Forests require relatively little exploratory analysis in both the data and training the model to get an idea of their performance in a task.\n",
        "\n",
        "<img src=\"https://github.com/IliaZenkov/sklearn-audio-classification/blob/master/img/randomforest.png?raw=true\" width=500 height=500 />"
      ]
    },
    {
      "cell_type": "code",
      "execution_count": 25,
      "metadata": {
        "id": "j9BWmcV9L9hh",
        "outputId": "85ca0d9c-3f9b-4746-f953-37e7e3df2f77",
        "colab": {
          "base_uri": "https://localhost:8080/"
        }
      },
      "outputs": [
        {
          "output_type": "stream",
          "name": "stdout",
          "text": [
            "Default Random Forest Model's accuracy on training set is 100.00%\n",
            "Default Random Forest Model's accuracy on test set is 20.00%\n",
            "\n",
            "Random Forest Model's accuracy on training set is 100.00%\n",
            "Random Forest Model's accuracy on test set is 20.00%\n"
          ]
        }
      ],
      "source": [
        "from sklearn.ensemble import RandomForestClassifier\n",
        "\n",
        "####### Default Random Forest ########\n",
        "model = RandomForestClassifier(\n",
        "    random_state=69\n",
        ")\n",
        "\n",
        "model.fit(X_train, y_train)\n",
        "\n",
        "print(f'Default Random Forest Model\\'s accuracy on training set is {100*model.score(X_train, y_train):.2f}%')\n",
        "print(f'Default Random Forest Model\\'s accuracy on test set is {100*model.score(X_test, y_test):.2f}%\\n')\n",
        "\n",
        "\n",
        "########## Tuned Random Forest #######\n",
        "model = RandomForestClassifier(\n",
        "    n_estimators = 500,\n",
        "    criterion ='entropy',\n",
        "    warm_start = True,\n",
        "    max_features = 'sqrt',\n",
        "    oob_score = True, # more on this below\n",
        "    random_state=42\n",
        ")\n",
        "\n",
        "model.fit(X_train, y_train)\n",
        "\n",
        "print(f'Random Forest Model\\'s accuracy on training set is {100*model.score(X_train, y_train):.2f}%')\n",
        "print(f'Random Forest Model\\'s accuracy on test set is {100*model.score(X_test, y_test):.2f}%')"
      ]
    },
    {
      "cell_type": "markdown",
      "metadata": {
        "id": "vM9-k8KLL9hi"
      },
      "source": [
        "Not bad for zero effort put into the default model. **Random Forests make a good benchmark model**, especially when strapped for time.\n",
        "\n",
        "**_Max features_ defines size of random feature subset decided upon at each node; sqrt(#features) is a good default for classification.**\n",
        "\n",
        "**_Gini_ and _Entropy_ are functions computing quality of classified samples within each node; they almost always provide similar performance but Entropy is more suited to classification while Gini is better for continuous variables.**\n"
      ]
    },
    {
      "cell_type": "markdown",
      "metadata": {
        "id": "DnhnxuGXL9hi"
      },
      "source": [
        "\n",
        "As wonderful as Random Forests are, it's clear that we're going to need to pull out bigger guns if we want to get appreciable performance on this dataset, perhaps even with good generalizability on test data. DNNs(Deep Neural Networks) are the next step-up in complexity from classical machine learning models, and we will start at the first rung on that ladder:Simple Perceptron in next lab!"
      ]
    }
  ],
  "metadata": {
    "kernelspec": {
      "display_name": "PyCharm (Speech Classifier)",
      "language": "python",
      "name": "pycharm-6a34225"
    },
    "language_info": {
      "codemirror_mode": {
        "name": "ipython",
        "version": 3
      },
      "file_extension": ".py",
      "mimetype": "text/x-python",
      "name": "python",
      "nbconvert_exporter": "python",
      "pygments_lexer": "ipython3",
      "version": "3.8.3"
    },
    "colab": {
      "provenance": [],
      "include_colab_link": true
    }
  },
  "nbformat": 4,
  "nbformat_minor": 0
}